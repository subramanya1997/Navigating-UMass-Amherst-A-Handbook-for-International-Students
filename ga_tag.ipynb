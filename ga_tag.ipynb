{
 "cells": [
  {
   "cell_type": "code",
   "execution_count": null,
   "metadata": {},
   "outputs": [],
   "source": [
    "ga_tag = open(\"ga_tag.txt\", \"r\").read().strip()\n",
    "ga_tag_lines = ga_tag.split(\"\\n\")\n",
    "ga_tag_lines = [f\"{line}\\n\" for line in ga_tag_lines]\n",
    "ga_tag_lines[0] = \"        \" + ga_tag_lines[0]"
   ]
  },
  {
   "cell_type": "code",
   "execution_count": null,
   "metadata": {},
   "outputs": [],
   "source": [
    "from os import listdir\n",
    "from os.path import isfile, join\n",
    "path = \"_book/introduction\"\n",
    "onlyfiles_1 = [f for f in listdir(path) if isfile(join(path, f))]\n",
    "onlyfiles_1 = [f\"{path}/{file}\" for file in onlyfiles_1]\n",
    "path = \"_book/off-campus-housing\"\n",
    "onlyfiles_2 = [f for f in listdir(path) if isfile(join(path, f))]\n",
    "onlyfiles_2 = [f\"{path}/{file}\" for file in onlyfiles_2]\n",
    "onlyfiles = onlyfiles_1 + onlyfiles_2\n",
    "onlyfiles.append(\"_book/index.html\")\n",
    "onlyfiles"
   ]
  },
  {
   "cell_type": "code",
   "execution_count": null,
   "metadata": {},
   "outputs": [],
   "source": [
    "n = len(\" · HonKit</title>\")\n",
    "for file in onlyfiles:\n",
    "    print(file)\n",
    "    if not file.endswith(\"html\"):\n",
    "        print(file)\n",
    "        continue\n",
    "    correct_lines = []\n",
    "    prev = None\n",
    "    with open(file, \"r\") as f:\n",
    "        lines = f.readlines()\n",
    "        for i, line in enumerate(lines):\n",
    "            if prev == \"<head>\":\n",
    "                correct_lines.extend(ga_tag_lines)\n",
    "            correct_lines.append(line)\n",
    "            prev = line.strip()\n",
    "        correct_lines.extend(lines[i + 1:])\n",
    "    with open(file, \"w\") as f:\n",
    "        text = \"\".join(correct_lines)\n",
    "        f.write(text)"
   ]
  },
  {
   "cell_type": "code",
   "execution_count": null,
   "metadata": {},
   "outputs": [],
   "source": [
    "rm -rf _book/ga_tag.*"
   ]
  },
  {
   "cell_type": "code",
   "execution_count": null,
   "metadata": {},
   "outputs": [],
   "source": [
    "!git add . && git commit --amend --no-edit"
   ]
  },
  {
   "attachments": {},
   "cell_type": "markdown",
   "metadata": {},
   "source": [
    "```\n",
    "git checkout html && rm -rf *\n",
    "git checkout master -- _book\n",
    "mv _book/* . && rm -rf _book\n",
    "git add -A && git commit -am \"Update html file\" && git push\n",
    "```"
   ]
  }
 ],
 "metadata": {
  "kernelspec": {
   "display_name": "Python 3",
   "language": "python",
   "name": "python3"
  },
  "language_info": {
   "codemirror_mode": {
    "name": "ipython",
    "version": 3
   },
   "file_extension": ".py",
   "mimetype": "text/x-python",
   "name": "python",
   "nbconvert_exporter": "python",
   "pygments_lexer": "ipython3",
   "version": "3.9.13"
  }
 },
 "nbformat": 4,
 "nbformat_minor": 4
}
