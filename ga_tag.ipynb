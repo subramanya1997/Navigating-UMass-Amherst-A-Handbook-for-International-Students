{
 "cells": [
  {
   "cell_type": "code",
   "execution_count": 10,
   "metadata": {},
   "outputs": [],
   "source": [
    "ga_tag = open(\"ga_tag.txt\", \"r\").read().strip()\n",
    "ga_tag_lines = ga_tag.split(\"\\n\")\n",
    "ga_tag_lines = [f\"{line}\\n\" for line in ga_tag_lines]\n",
    "ga_tag_lines[0] = \"        \" + ga_tag_lines[0]"
   ]
  },
  {
   "cell_type": "code",
   "execution_count": 11,
   "metadata": {},
   "outputs": [],
   "source": [
    "from os import listdir\n",
    "from os.path import isfile, join\n",
    "path = \"_book/contents\"\n",
    "onlyfiles = [f for f in listdir(path) if isfile(join(path, f))]\n",
    "onlyfiles = [f\"{path}/{file}\" for file in onlyfiles]\n",
    "onlyfiles.append(\"_book/index.html\")"
   ]
  },
  {
   "cell_type": "code",
   "execution_count": 12,
   "metadata": {},
   "outputs": [
    {
     "name": "stdout",
     "output_type": "stream",
     "text": [
      "_book/contents/housing.html\n",
      "_book/contents/about-the-author.html\n",
      "_book/contents/acknowledgments.html\n",
      "_book/contents/target-audience.html\n",
      "_book/index.html\n"
     ]
    }
   ],
   "source": [
    "n = len(\" · HonKit</title>\")\n",
    "for file in onlyfiles:\n",
    "    print(file)\n",
    "    if not file.endswith(\"html\"):\n",
    "        print(file)\n",
    "        continue\n",
    "    correct_lines = []\n",
    "    prev = None\n",
    "    with open(file, \"r\") as f:\n",
    "        lines = f.readlines()\n",
    "        for i, line in enumerate(lines):\n",
    "            if prev == \"<head>\":\n",
    "                correct_lines.extend(ga_tag_lines)\n",
    "            correct_lines.append(line)\n",
    "            prev = line.strip()\n",
    "        correct_lines.extend(lines[i + 1:])\n",
    "    with open(file, \"w\") as f:\n",
    "        text = \"\".join(correct_lines)\n",
    "        f.write(text)"
   ]
  },
  {
   "cell_type": "markdown",
   "metadata": {},
   "source": [
    "```\n",
    "git checkout html\n",
    "rm -rf *\n",
    "git checkout master -- _book\n",
    "mv _book/* .\n",
    "rm -rf _book\n",
    "git add -A && git commit -am \"Update html file\" && git push\n",
    "```"
   ]
  }
 ],
 "metadata": {
  "kernelspec": {
   "display_name": "Python 3",
   "language": "python",
   "name": "python3"
  },
  "language_info": {
   "codemirror_mode": {
    "name": "ipython",
    "version": 3
   },
   "file_extension": ".py",
   "mimetype": "text/x-python",
   "name": "python",
   "nbconvert_exporter": "python",
   "pygments_lexer": "ipython3",
   "version": "3.9.13"
  }
 },
 "nbformat": 4,
 "nbformat_minor": 4
}
